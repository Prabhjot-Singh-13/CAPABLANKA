{
 "cells": [
  {
   "cell_type": "markdown",
   "metadata": {},
   "source": [
    "# BEST MODEL YET"
   ]
  },
  {
   "cell_type": "code",
   "execution_count": 2,
   "metadata": {},
   "outputs": [],
   "source": [
    "import pandas as pd\n",
    "import numpy as np\n",
    "import chess\n",
    "from sklearn.model_selection import train_test_split\n",
    "from sklearn.preprocessing import LabelEncoder\n",
    "from sklearn.metrics import accuracy_score\n",
    "import xgboost as xgb\n"
   ]
  },
  {
   "cell_type": "code",
   "execution_count": null,
   "metadata": {},
   "outputs": [],
   "source": []
  },
  {
   "cell_type": "code",
   "execution_count": 3,
   "metadata": {},
   "outputs": [
    {
     "name": "stdout",
     "output_type": "stream",
     "text": [
      "   Unnamed: 0                 White                Black Result  \\\n",
      "0           0  Donchenko, Alexander  Goltseva, Ekaterina    1-0   \n",
      "1           1  Donchenko, Alexander    Semenenko, Dmytry    1-0   \n",
      "2           2  Donchenko, Alexander       Ragger, Markus    1-0   \n",
      "3           3  Donchenko, Alexander      Sjugirov, Sanan    1-0   \n",
      "4           4  Donchenko, Alexander     Yurtseven, Melih    1-0   \n",
      "\n",
      "                                          WhiteMoves  \\\n",
      "0  ['e4', 'Nf3', 'Nc3', 'exd5', 'Bc4', 'bxc3', 'O...   \n",
      "1  ['e4', 'e5', 'd4', 'c4', 'exd6', 'Nc3', 'h3', ...   \n",
      "2  ['d4', 'c4', 'Nc3', 'Nf3', 'cxd5', 'e4', 'bxc3...   \n",
      "3  ['e4', 'Nf3', 'Bb5', 'O-O', 'c3', 'Re1', 'd4',...   \n",
      "4  ['e4', 'Nf3', 'Bb5', 'Ba4', 'c3', 'd4', 'O-O',...   \n",
      "\n",
      "                                          BlackMoves  \\\n",
      "0  ['c5', 'Nf6', 'd5', 'Nxd5', 'Nxc3', 'e6', 'Be7...   \n",
      "1  ['Nf6', 'Nd5', 'd6', 'Nb6', 'cxd6', 'g6', 'Bg7...   \n",
      "2  ['Nf6', 'g6', 'd5', 'Bg7', 'Nxd5', 'Nxc3', 'c5...   \n",
      "3  ['c5', 'Nc6', 'g6', 'Bg7', 'Nf6', 'O-O', 'd5',...   \n",
      "4  ['e5', 'Nc6', 'a6', 'Nge7', 'd6', 'Bd7', 'Ng6'...   \n",
      "\n",
      "                                          WhiteTimes  \\\n",
      "0  ['0:03:00', '0:02:59', '0:02:58', '0:02:58', '...   \n",
      "1  ['0:03:00', '0:02:59', '0:03:00', '0:03:00', '...   \n",
      "2  ['1:30:55', '1:31:12', '1:31:29', '1:31:51', '...   \n",
      "3  ['0:03:00', '0:03:01', '0:03:01', '0:03:00', '...   \n",
      "4  ['0:02:58', '0:02:57', '0:02:57', '0:02:57', '...   \n",
      "\n",
      "                                          BlackTimes  TotalSeconds  \n",
      "0  ['0:02:56', '0:02:55', '0:02:54', '0:02:55', '...         181.0  \n",
      "1  ['0:02:59', '0:03:00', '0:03:00', '0:03:00', '...         181.0  \n",
      "2  ['1:30:55', '1:31:22', '1:31:50', '1:32:15', '...        1860.0  \n",
      "3  ['0:02:59', '0:02:59', '0:02:59', '0:03:00', '...         182.0  \n",
      "4  ['0:03:00', '0:03:00', '0:03:01', '0:03:01', '...         182.0  \n"
     ]
    }
   ],
   "source": [
    "# Load the dataset\n",
    "data_path = r\"C:\\Users\\hiddensardar\\Downloads\\ches.csv\"\n",
    "df = pd.read_csv(data_path)\n",
    "\n",
    "# Check the first few rows of the dataset\n",
    "print(df.head())\n",
    "\n"
   ]
  },
  {
   "cell_type": "code",
   "execution_count": 6,
   "metadata": {},
   "outputs": [],
   "source": [
    "def time_to_seconds(time_str):\n",
    "    h, m, s = map(int, time_str.split(':'))\n",
    "    return h * 3600 + m * 60 + s\n",
    "\n",
    "# Apply the conversion for both white and black times\n",
    "df['WhiteTimeLeft'] = df['WhiteTimes'].apply(lambda times: [time_to_seconds(t) for t in eval(times)])\n",
    "df['BlackTimeLeft'] = df['BlackTimes'].apply(lambda times: [time_to_seconds(t) for t in eval(times)])\n",
    "\n"
   ]
  },
  {
   "cell_type": "code",
   "execution_count": 7,
   "metadata": {},
   "outputs": [],
   "source": [
    "def compute_time_spent(time_list):\n",
    "    return [time_list[i] - time_list[i+1] for i in range(len(time_list) - 1)]\n",
    "\n",
    "df['WhiteTimeSpent'] = df['WhiteTimeLeft'].apply(compute_time_spent)\n",
    "df['BlackTimeSpent'] = df['BlackTimeLeft'].apply(compute_time_spent)\n"
   ]
  },
  {
   "cell_type": "code",
   "execution_count": 8,
   "metadata": {},
   "outputs": [],
   "source": [
    "def game_phase(move_number):\n",
    "    if move_number <= 15:\n",
    "        return 'Opening'\n",
    "    elif move_number <= 40:\n",
    "        return 'Middlegame'\n",
    "    else:\n",
    "        return 'Endgame'\n",
    "\n",
    "df['GamePhase'] = df.apply(lambda row: game_phase(len(eval(row['WhiteMoves'])) + len(eval(row['BlackMoves']))), axis=1)\n"
   ]
  },
  {
   "cell_type": "code",
   "execution_count": 9,
   "metadata": {},
   "outputs": [],
   "source": [
    "def extract_piece_moves(moves):\n",
    "    board = chess.Board()\n",
    "    piece_moves = []\n",
    "    for move in eval(moves):\n",
    "        try:\n",
    "            uci_move = board.parse_san(move).uci()\n",
    "            piece = board.piece_at(chess.SQUARE_NAMES.index(uci_move[:2])).symbol()\n",
    "            piece_moves.append(piece)\n",
    "            board.push_san(move)\n",
    "        except:\n",
    "            continue\n",
    "    return piece_moves\n",
    "\n",
    "df['WhitePieceMoves'] = df['WhiteMoves'].apply(extract_piece_moves)\n",
    "df['BlackPieceMoves'] = df['BlackMoves'].apply(extract_piece_moves)\n"
   ]
  },
  {
   "cell_type": "code",
   "execution_count": 10,
   "metadata": {},
   "outputs": [],
   "source": [
    "def material_count(board):\n",
    "    piece_values = {'P': 1, 'N': 3, 'B': 3, 'R': 5, 'Q': 9, 'K': 0,\n",
    "                    'p': -1, 'n': -3, 'b': -3, 'r': -5, 'q': -9, 'k': 0}\n",
    "    material = sum([piece_values.get(piece.symbol(), 0) for piece in board.piece_map().values()])\n",
    "    return material\n",
    "\n",
    "def material_advantage(moves):\n",
    "    board = chess.Board()\n",
    "    material_advantage_list = []\n",
    "    for move in eval(moves):\n",
    "        material_advantage_list.append(material_count(board))\n",
    "        try:\n",
    "            board.push_san(move)\n",
    "        except:\n",
    "            continue\n",
    "    return material_advantage_list\n",
    "\n",
    "df['WhiteMaterialAdvantage'] = df['WhiteMoves'].apply(material_advantage)\n",
    "df['BlackMaterialAdvantage'] = df['BlackMoves'].apply(material_advantage)\n"
   ]
  },
  {
   "cell_type": "code",
   "execution_count": 11,
   "metadata": {},
   "outputs": [],
   "source": [
    "def board_to_features(board):\n",
    "    piece_mapping = {\n",
    "        'P': 1, 'N': 2, 'B': 3, 'R': 4, 'Q': 5, 'K': 6,\n",
    "        'p': -1, 'n': -2, 'b': -3, 'r': -4, 'q': -5, 'k': -6,\n",
    "        '.': 0\n",
    "    }\n",
    "    features = []\n",
    "    for row in range(8):\n",
    "        for col in range(8):\n",
    "            piece = board.piece_at(chess.square(col, row))\n",
    "            features.append(piece_mapping[piece.symbol()] if piece else 0)\n",
    "    return np.array(features)\n"
   ]
  },
  {
   "cell_type": "code",
   "execution_count": 12,
   "metadata": {},
   "outputs": [],
   "source": [
    "X = []  # Features\n",
    "y = []  # Labels (target moves)\n",
    "\n",
    "for index, row in df.iterrows():\n",
    "    board = chess.Board()\n",
    "    moves = eval(row['WhiteMoves']) if row['White'] == 'Donchenko, Alexander' else eval(row['BlackMoves'])\n",
    "\n",
    "    for i, move in enumerate(moves):\n",
    "        try:\n",
    "            uci_move = board.parse_san(move).uci()\n",
    "        except:\n",
    "            continue\n",
    "\n",
    "        # Extract board features\n",
    "        board_features = board_to_features(board)\n",
    "        \n",
    "        # Extract additional features: time, material advantage, game phase\n",
    "        white_time_spent = row['WhiteTimeSpent'][i] if i < len(row['WhiteTimeSpent']) else 0\n",
    "        black_time_spent = row['BlackTimeSpent'][i] if i < len(row['BlackTimeSpent']) else 0\n",
    "        white_material = row['WhiteMaterialAdvantage'][i] if i < len(row['WhiteMaterialAdvantage']) else 0\n",
    "        black_material = row['BlackMaterialAdvantage'][i] if i < len(row['BlackMaterialAdvantage']) else 0\n",
    "        game_phase = 1 if row['GamePhase'] == 'Opening' else (2 if row['GamePhase'] == 'Middlegame' else 3)\n",
    "        \n",
    "        # Combine all features into one array\n",
    "        features = np.hstack([board_features, white_time_spent, black_time_spent, white_material, black_material, game_phase])\n",
    "        X.append(features)\n",
    "        y.append(uci_move)  # Target label\n",
    "        \n",
    "        # Make the move on the board\n",
    "        board.push_san(move)\n",
    "\n",
    "# Convert to numpy arrays\n",
    "X = np.array(X)\n",
    "y = np.array(y)\n"
   ]
  },
  {
   "cell_type": "code",
   "execution_count": 13,
   "metadata": {},
   "outputs": [],
   "source": [
    "X_train, X_test, y_train, y_test = train_test_split(X, y, test_size=0.2, random_state=42)\n"
   ]
  },
  {
   "cell_type": "code",
   "execution_count": 14,
   "metadata": {},
   "outputs": [],
   "source": [
    "# Combine train and test labels to fit the encoder on all possible UCI moves\n",
    "le = LabelEncoder()\n",
    "le.fit(np.concatenate([y_train, y_test]))\n",
    "\n",
    "# Transform labels for training and testing\n",
    "y_train_encoded = le.transform(y_train)\n",
    "y_test_encoded = le.transform(y_test)\n",
    "\n",
    "# Create DMatrix for XGBoost\n",
    "dtrain = xgb.DMatrix(X_train, label=y_train_encoded)\n",
    "dtest = xgb.DMatrix(X_test, label=y_test_encoded)\n",
    "\n",
    "# Set XGBoost parameters\n",
    "params = {\n",
    "    'objective': 'multi:softmax',  # Multi-class classification\n",
    "    'num_class': len(le.classes_), # Number of move classes\n",
    "    'eval_metric': 'mlogloss',     # Log loss for evaluation\n",
    "    'max_depth': 20,                # Maximum tree depth\n",
    "    'eta': 0.1,                    # Learning rate\n",
    "    'subsample': 0.8,              # Row subsample ratio\n",
    "    'colsample_bytree': 0.8,       # Column subsample ratio\n",
    "    'seed': 42                     # Seed for reproducibility\n",
    "}\n",
    "\n",
    "# Train the model\n",
    "num_rounds = 500\n",
    "bst = xgb.train(params, dtrain, num_boost_round=num_rounds)\n",
    "\n",
    "# Predict on the test set\n",
    "y_pred = bst.predict(dtest)\n"
   ]
  },
  {
   "cell_type": "code",
   "execution_count": 15,
   "metadata": {},
   "outputs": [
    {
     "name": "stdout",
     "output_type": "stream",
     "text": [
      "XGBoost Model Accuracy: 27.33%\n"
     ]
    }
   ],
   "source": [
    "# Evaluate the model's accuracy\n",
    "accuracy = accuracy_score(y_test_encoded, y_pred)\n",
    "print(f\"XGBoost Model Accuracy: {accuracy * 100:.2f}%\")"
   ]
  },
  {
   "cell_type": "code",
   "execution_count": 16,
   "metadata": {},
   "outputs": [
    {
     "name": "stderr",
     "output_type": "stream",
     "text": [
      "C:\\Users\\hiddensardar\\AppData\\Local\\Packages\\PythonSoftwareFoundation.Python.3.12_qbz5n2kfra8p0\\LocalCache\\local-packages\\Python312\\site-packages\\xgboost\\core.py:158: UserWarning: [12:32:19] WARNING: C:\\buildkite-agent\\builds\\buildkite-windows-cpu-autoscaling-group-i-0015a694724fa8361-1\\xgboost\\xgboost-ci-windows\\src\\c_api\\c_api.cc:1374: Saving model in the UBJSON format as default.  You can use file extension: `json`, `ubj` or `deprecated` to choose between formats.\n",
      "  warnings.warn(smsg, UserWarning)\n"
     ]
    },
    {
     "name": "stdout",
     "output_type": "stream",
     "text": [
      "XGBoost model saved to D:\\CAPABLANCA\\Models\\xgboost_chess_model_27.bst\n"
     ]
    }
   ],
   "source": [
    "# Save the trained model\n",
    "model_save_path = r\"D:\\CAPABLANCA\\Models\\xgboost_chess_model_27.bst\"\n",
    "bst.save_model(model_save_path)\n",
    "print(f\"XGBoost model saved to {model_save_path}\")\n"
   ]
  },
  {
   "attachments": {
    "image-2.png": {
     "image/png": "[encoded data removed]"
    },
    "image-3.png": {
     "image/png": "[encoded data removed]"
    },
    "image.png": {
     "image/png": "[encoded data removed]"
    }
   },
   "cell_type": "markdown",
   "metadata": {},
   "source": [
    "![image.png](attachment:image.png)\n",
    "\n",
    "![image-2.png](attachment:image-2.png)\n",
    "\n",
    "![image-3.png](attachment:image-3.png)"
   ]
  },
  {
   "cell_type": "markdown",
   "metadata": {},
   "source": [
    "# Additional tries"
   ]
  },
  {
   "cell_type": "markdown",
   "metadata": {},
   "source": [
    "Still this accuracy is good we will increase this after that now lets move forward with different modifications"
   ]
  },
  {
   "cell_type": "code",
   "execution_count": 9,
   "metadata": {},
   "outputs": [],
   "source": [
    "import chess.engine\n",
    "\n",
    "# Provide the path to your Stockfish engine\n",
    "stockfish_path = r\"C:\\Users\\hiddensardar\\Downloads\\stockfish-windows-x86-64-avx2\\stockfish\\stockfish-windows-x86-64-avx2.exe\" \n",
    "\n",
    "# Initialize the Stockfish engine\n",
    "engine = chess.engine.SimpleEngine.popen_uci(stockfish_path)\n"
   ]
  },
  {
   "cell_type": "code",
   "execution_count": null,
   "metadata": {},
   "outputs": [],
   "source": [
    "from sklearn.preprocessing import StandardScaler\n",
    "import chess.engine\n",
    "\n",
    "\n",
    "def evaluate_move_difficulty(board, move):\n",
    "    try:\n",
    "        # Convert move to UCI format\n",
    "        uci_move = board.parse_san(move).uci()\n",
    "        # Evaluate board before the move\n",
    "        info = engine.analyse(board, chess.engine.Limit(time=0.1))\n",
    "        board_value_before = info[\"score\"].relative.score()\n",
    "        # Make the move\n",
    "        board.push_san(move)\n",
    "        # Evaluate board after the move\n",
    "        info_after = engine.analyse(board, chess.engine.Limit(time=0.1))\n",
    "        board_value_after = info_after[\"score\"].relative.score()\n",
    "        # Calculate difficulty as centipawn loss\n",
    "        difficulty = abs(board_value_after - board_value_before)\n",
    "    except:\n",
    "        difficulty = 0\n",
    "    return difficulty\n",
    "\n",
    "# Apply the function to both white and black moves\n",
    "df['WhiteMoveDifficulty'] = df['WhiteMoves'].apply(lambda moves: [evaluate_move_difficulty(chess.Board(), move) for move in eval(moves)])\n",
    "df['BlackMoveDifficulty'] = df['BlackMoves'].apply(lambda moves: [evaluate_move_difficulty(chess.Board(), move) for move in eval(moves)])\n",
    "\n",
    "# Scaling the time spent and difficulty features\n",
    "scaler = StandardScaler()\n",
    "\n",
    "# Features to scale\n",
    "time_features = ['WhiteTimeSpent', 'BlackTimeSpent', 'WhiteMoveDifficulty', 'BlackMoveDifficulty']\n",
    "\n",
    "for feature in time_features:\n",
    "    # Flatten the lists and fit the scaler\n",
    "    flat_list = [item for sublist in df[feature] for item in sublist]\n",
    "    scaled_flat_list = scaler.fit_transform(np.array(flat_list).reshape(-1, 1)).flatten()\n",
    "    \n",
    "    # Split the scaled list back into the original shape\n",
    "    scaled_split_list = [scaled_flat_list[i:i+len(df.iloc[index][feature])] for index, i in enumerate(range(0, len(scaled_flat_list), len(df.iloc[0][feature])))]\n",
    "    \n",
    "    df[feature + '_scaled'] = scaled_split_list\n"
   ]
  },
  {
   "cell_type": "code",
   "execution_count": null,
   "metadata": {},
   "outputs": [],
   "source": []
  },
  {
   "cell_type": "code",
   "execution_count": null,
   "metadata": {},
   "outputs": [],
   "source": [
    "# Adjusting XGBoost parameters\n",
    "params = {\n",
    "    'objective': 'multi:softmax',\n",
    "    'num_class': len(le.classes_),\n",
    "    'eval_metric': 'mlogloss',\n",
    "    'max_depth': 15,          # Decrease depth to avoid overfitting\n",
    "    'eta': 0.05,              # Reduce learning rate\n",
    "    'subsample': 0.7,         # More aggressive subsampling\n",
    "    'colsample_bytree': 0.7,  # Less columns used per tree\n",
    "    'min_child_weight': 5,    # Add a minimum child weight to avoid overfitting\n",
    "    'seed': 42\n",
    "}\n",
    "\n",
    "# Retrain the model with new parameters\n",
    "num_rounds = 1000  # Increase the number of boosting rounds\n",
    "bst = xgb.train(params, dtrain, num_boost_round=num_rounds)\n",
    "\n",
    "# Predict on the test set\n",
    "y_pred = bst.predict(dtest)\n"
   ]
  },
  {
   "cell_type": "code",
   "execution_count": null,
   "metadata": {},
   "outputs": [],
   "source": [
    "# Implement cross-validation and early stopping\n",
    "cv_results = xgb.cv(\n",
    "    params, dtrain, num_boost_round=num_rounds, nfold=5,\n",
    "    early_stopping_rounds=50, metrics=\"mlogloss\", seed=42\n",
    ")\n",
    "\n",
    "# Train the model with the best number of boosting rounds\n",
    "best_num_rounds = cv_results['test-mlogloss-mean'].idxmin()\n",
    "bst = xgb.train(params, dtrain, num_boost_round=best_num_rounds)\n"
   ]
  },
  {
   "cell_type": "code",
   "execution_count": null,
   "metadata": {},
   "outputs": [],
   "source": [
    "from sklearn.metrics import accuracy_score, confusion_matrix\n",
    "\n",
    "# Predict on the test set\n",
    "y_pred = bst.predict(dtest)\n",
    "y_pred_labels = le.inverse_transform(y_pred.astype(int))\n",
    "\n",
    "# Accuracy\n",
    "accuracy = accuracy_score(y_test, y_pred_labels)\n",
    "print(f'Updated Model Accuracy: {accuracy * 100:.2f}%')\n",
    "\n",
    "# Confusion Matrix\n",
    "print(confusion_matrix(y_test, y_pred_labels))\n"
   ]
  },
  {
   "cell_type": "code",
   "execution_count": 1,
   "metadata": {},
   "outputs": [],
   "source": [
    "# Time model"
   ]
  },
  {
   "cell_type": "code",
   "execution_count": 4,
   "metadata": {},
   "outputs": [],
   "source": [
    "def extract_time_features(board, move_number, cumulative_time):\n",
    "    # Basic board features: Extract the board state as before\n",
    "    feature_vector = extract_features(board)  # Reuse your existing feature extraction\n",
    "    \n",
    "    # Add additional time-related features\n",
    "    game_phase = 1 if move_number <= 15 else (2 if move_number <= 40 else 3)  # Opening, Middlegame, Endgame\n",
    "    material_advantage = sum([piece_value(piece) for piece in board.piece_map().values()])\n",
    "    \n",
    "    # Combine all features: board state, game phase, move number, and cumulative time\n",
    "    time_features = np.array([move_number, cumulative_time, game_phase, material_advantage])\n",
    "    \n",
    "    full_feature_vector = np.hstack([feature_vector, time_features])  # Combine board features + time features\n",
    "    return full_feature_vector\n",
    "\n",
    "# Function to assign value to each piece (useful for material advantage)\n",
    "def piece_value(piece):\n",
    "    piece_values = {'P': 1, 'N': 3, 'B': 3, 'R': 5, 'Q': 9, 'K': 0,\n",
    "                    'p': -1, 'n': -3, 'b': -3, 'r': -5, 'q': -9, 'k': 0}\n",
    "    return piece_values.get(piece.symbol(), 0)\n"
   ]
  },
  {
   "cell_type": "code",
   "execution_count": 8,
   "metadata": {},
   "outputs": [
    {
     "ename": "NameError",
     "evalue": "name 'extract_features' is not defined",
     "output_type": "error",
     "traceback": [
      "\u001b[1;31m---------------------------------------------------------------------------\u001b[0m",
      "\u001b[1;31mNameError\u001b[0m                                 Traceback (most recent call last)",
      "Cell \u001b[1;32mIn[8], line 34\u001b[0m\n\u001b[0;32m     32\u001b[0m \u001b[38;5;28;01mfor\u001b[39;00m i, move \u001b[38;5;129;01min\u001b[39;00m \u001b[38;5;28menumerate\u001b[39m(\u001b[38;5;28meval\u001b[39m(row[\u001b[38;5;124m'\u001b[39m\u001b[38;5;124mWhiteMoves\u001b[39m\u001b[38;5;124m'\u001b[39m])):\n\u001b[0;32m     33\u001b[0m     board\u001b[38;5;241m.\u001b[39mpush_san(move)\n\u001b[1;32m---> 34\u001b[0m     features \u001b[38;5;241m=\u001b[39m \u001b[43mextract_time_features\u001b[49m\u001b[43m(\u001b[49m\u001b[43mboard\u001b[49m\u001b[43m,\u001b[49m\u001b[43m \u001b[49m\u001b[43mi\u001b[49m\u001b[43m \u001b[49m\u001b[38;5;241;43m+\u001b[39;49m\u001b[43m \u001b[49m\u001b[38;5;241;43m1\u001b[39;49m\u001b[43m,\u001b[49m\u001b[43m \u001b[49m\u001b[38;5;28;43msum\u001b[39;49m\u001b[43m(\u001b[49m\u001b[43mwhite_time_spent\u001b[49m\u001b[43m[\u001b[49m\u001b[43m:\u001b[49m\u001b[43mi\u001b[49m\u001b[43m]\u001b[49m\u001b[43m)\u001b[49m\u001b[43m)\u001b[49m  \u001b[38;5;66;03m# Cumulative time for White\u001b[39;00m\n\u001b[0;32m     35\u001b[0m     X\u001b[38;5;241m.\u001b[39mappend(features)\n\u001b[0;32m     36\u001b[0m     y\u001b[38;5;241m.\u001b[39mappend(white_time_spent[i] \u001b[38;5;28;01mif\u001b[39;00m i \u001b[38;5;241m<\u001b[39m \u001b[38;5;28mlen\u001b[39m(white_time_spent) \u001b[38;5;28;01melse\u001b[39;00m \u001b[38;5;241m0\u001b[39m)  \u001b[38;5;66;03m# Time spent for this move\u001b[39;00m\n",
      "Cell \u001b[1;32mIn[4], line 3\u001b[0m, in \u001b[0;36mextract_time_features\u001b[1;34m(board, move_number, cumulative_time)\u001b[0m\n\u001b[0;32m      1\u001b[0m \u001b[38;5;28;01mdef\u001b[39;00m \u001b[38;5;21mextract_time_features\u001b[39m(board, move_number, cumulative_time):\n\u001b[0;32m      2\u001b[0m     \u001b[38;5;66;03m# Basic board features: Extract the board state as before\u001b[39;00m\n\u001b[1;32m----> 3\u001b[0m     feature_vector \u001b[38;5;241m=\u001b[39m \u001b[43mextract_features\u001b[49m(board)  \u001b[38;5;66;03m# Reuse your existing feature extraction\u001b[39;00m\n\u001b[0;32m      5\u001b[0m     \u001b[38;5;66;03m# Add additional time-related features\u001b[39;00m\n\u001b[0;32m      6\u001b[0m     game_phase \u001b[38;5;241m=\u001b[39m \u001b[38;5;241m1\u001b[39m \u001b[38;5;28;01mif\u001b[39;00m move_number \u001b[38;5;241m<\u001b[39m\u001b[38;5;241m=\u001b[39m \u001b[38;5;241m15\u001b[39m \u001b[38;5;28;01melse\u001b[39;00m (\u001b[38;5;241m2\u001b[39m \u001b[38;5;28;01mif\u001b[39;00m move_number \u001b[38;5;241m<\u001b[39m\u001b[38;5;241m=\u001b[39m \u001b[38;5;241m40\u001b[39m \u001b[38;5;28;01melse\u001b[39;00m \u001b[38;5;241m3\u001b[39m)  \u001b[38;5;66;03m# Opening, Middlegame, Endgame\u001b[39;00m\n",
      "\u001b[1;31mNameError\u001b[0m: name 'extract_features' is not defined"
     ]
    }
   ],
   "source": [
    "import pandas as pd\n",
    "import chess\n",
    "import numpy as np\n",
    "\n",
    "# Load the dataset\n",
    "data_path = r\"C:\\Users\\hiddensardar\\Downloads\\ches.csv\"\n",
    "df = pd.read_csv(data_path)\n",
    "\n",
    "# Function to convert time from 'HH:MM:SS' to seconds\n",
    "def time_to_seconds(time_str):\n",
    "    h, m, s = map(int, time_str.split(':'))\n",
    "    return h * 3600 + m * 60 + s\n",
    "\n",
    "# Function to calculate time spent on each move\n",
    "def compute_time_spent(times_list):\n",
    "    times_in_seconds = [time_to_seconds(t) for t in eval(times_list)]\n",
    "    return [times_in_seconds[i] - times_in_seconds[i + 1] for i in range(len(times_in_seconds) - 1)]\n",
    "\n",
    "# Initialize lists for features and target (time spent)\n",
    "X = []\n",
    "y = []\n",
    "\n",
    "# Loop over the dataset to extract features and time spent for each move\n",
    "for index, row in df.iterrows():\n",
    "    board = chess.Board()\n",
    "    \n",
    "    # Calculate time spent for White and Black moves\n",
    "    white_time_spent = compute_time_spent(row['WhiteTimes'])\n",
    "    black_time_spent = compute_time_spent(row['BlackTimes'])\n",
    "\n",
    "    # Extract features and time for White moves\n",
    "    for i, move in enumerate(eval(row['WhiteMoves'])):\n",
    "        board.push_san(move)\n",
    "        features = extract_time_features(board, i + 1, sum(white_time_spent[:i]))  # Cumulative time for White\n",
    "        X.append(features)\n",
    "        y.append(white_time_spent[i] if i < len(white_time_spent) else 0)  # Time spent for this move\n",
    "\n",
    "    # Extract features and time for Black moves\n",
    "    for i, move in enumerate(eval(row['BlackMoves'])):\n",
    "        board.push_san(move)\n",
    "        features = extract_time_features(board, i + 1, sum(black_time_spent[:i]))  # Cumulative time for Black\n",
    "        X.append(features)\n",
    "        y.append(black_time_spent[i] if i < len(black_time_spent) else 0)  # Time spent for this move\n",
    "\n",
    "# Convert to numpy arrays for the model input\n",
    "X = np.array(X)\n",
    "y = np.array(y)\n"
   ]
  },
  {
   "cell_type": "code",
   "execution_count": 6,
   "metadata": {},
   "outputs": [
    {
     "name": "stdout",
     "output_type": "stream",
     "text": [
      "Index(['Unnamed: 0', 'White', 'Black', 'Result', 'WhiteMoves', 'BlackMoves',\n",
      "       'WhiteTimes', 'BlackTimes', 'TotalSeconds'],\n",
      "      dtype='object')\n"
     ]
    }
   ],
   "source": [
    "# Check the columns in your dataset\n",
    "print(df.columns)\n"
   ]
  },
  {
   "cell_type": "code",
   "execution_count": 3,
   "metadata": {},
   "outputs": [
    {
     "ename": "SyntaxError",
     "evalue": "leading zeros in decimal integer literals are not permitted; use an 0o prefix for octal integers (1024126257.py, line 297)",
     "output_type": "error",
     "traceback": [
      "\u001b[1;36m  Cell \u001b[1;32mIn[3], line 297\u001b[1;36m\u001b[0m\n\u001b[1;33m    0\t0\tDonchenko, Alexander\tGoltseva, Ekaterina\t1-0\t['e4', 'Nf3', 'Nc3', 'exd5', 'Bc4', 'bxc3', 'O...\t['c5', 'Nf6', 'd5', 'Nxd5', 'Nxc3', 'e6', 'Be7...\t['0:03:00', '0:02:59', '0:02:58', '0:02:58', '...\t['0:02:56', '0:02:55', '0:02:54', '0:02:55', '...\t181.0\u001b[0m\n\u001b[1;37m     \t \t                    \t                   \t   \t                                                 \t                                                 \t                                                 \t    ^\u001b[0m\n\u001b[1;31mSyntaxError\u001b[0m\u001b[1;31m:\u001b[0m leading zeros in decimal integer literals are not permitted; use an 0o prefix for octal integers\n"
     ]
    }
   ],
   "source": []
  },
  {
   "cell_type": "code",
   "execution_count": null,
   "metadata": {},
   "outputs": [],
   "source": []
  }
 ],
 "metadata": {
  "kernelspec": {
   "display_name": "Python 3",
   "language": "python",
   "name": "python3"
  },
  "language_info": {
   "codemirror_mode": {
    "name": "ipython",
    "version": 3
   },
   "file_extension": ".py",
   "mimetype": "text/x-python",
   "name": "python",
   "nbconvert_exporter": "python",
   "pygments_lexer": "ipython3",
   "version": "3.12.7"
  }
 },
 "nbformat": 4,
 "nbformat_minor": 2
}
